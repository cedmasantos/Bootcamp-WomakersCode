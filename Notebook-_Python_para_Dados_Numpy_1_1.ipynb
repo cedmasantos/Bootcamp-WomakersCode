{
 "cells": [
  {
   "cell_type": "code",
   "execution_count": 5,
   "metadata": {},
   "outputs": [],
   "source": [
    "import numpy as np\n"
   ]
  },
  {
   "cell_type": "markdown",
   "metadata": {},
   "source": [
    "Numpay é uma biblioteca para computação científica  que fornece um objeto array multidimensional, vários objetos derivados (como arrays mascarados e matrizes) e uma variedade de rotinas para operações rápidas em arrays, incluindo matemática, lógica, manipulação de forma, classificação, seleção, E/S. , transformadas discretas de Fourier, álgebra linear básica, operações estatísticas básicas, simulação aleatória e muito mais.\n",
    "\n",
    "###Array é a estrutura principal da biblioteca numpy;"
   ]
  },
  {
   "cell_type": "code",
   "execution_count": 7,
   "metadata": {},
   "outputs": [
    {
     "data": {
      "text/plain": [
       "array([ 4,  8,  2, 12,  5,  8,  0])"
      ]
     },
     "execution_count": 7,
     "metadata": {},
     "output_type": "execute_result"
    }
   ],
   "source": [
    "# Uma array criarda a partir de uma lista\n",
    "\n",
    "l = [4,8,2,12,5,8,0]\n",
    "\n",
    "arr = np.array(l)\n",
    "arr"
   ]
  },
  {
   "cell_type": "code",
   "execution_count": 10,
   "metadata": {},
   "outputs": [
    {
     "data": {
      "text/plain": [
       "array([[0., 0.],\n",
       "       [0., 0.]])"
      ]
     },
     "execution_count": 10,
     "metadata": {},
     "output_type": "execute_result"
    }
   ],
   "source": [
    "#Criando um nympy array do zero\n",
    "\n",
    "np.zeros((2,2)) #passa-se a dimensâo do array e todos os elementos serão zero\n"
   ]
  },
  {
   "cell_type": "code",
   "execution_count": 12,
   "metadata": {},
   "outputs": [
    {
     "data": {
      "text/plain": [
       "array([ 0,  1,  2,  3,  4,  5,  6,  7,  8,  9, 10])"
      ]
     },
     "execution_count": 12,
     "metadata": {},
     "output_type": "execute_result"
    }
   ],
   "source": [
    "arr_range = np.arange(0,11) # valor inicial, valor final e o passo\n",
    "arr_range"
   ]
  },
  {
   "cell_type": "code",
   "execution_count": 13,
   "metadata": {},
   "outputs": [
    {
     "data": {
      "text/plain": [
       "array([[0.39651186, 0.24134352, 0.71999303],\n",
       "       [0.0401617 , 0.28411948, 0.22506811],\n",
       "       [0.11468961, 0.6886703 , 0.50755645]])"
      ]
     },
     "execution_count": 13,
     "metadata": {},
     "output_type": "execute_result"
    }
   ],
   "source": [
    "np.random.random((3,3)) #inicia um array com valores randomicos"
   ]
  },
  {
   "cell_type": "markdown",
   "metadata": {},
   "source": [
    "1. Crie um array com 4 linhas e 3 colunas com valores aleatórios"
   ]
  },
  {
   "cell_type": "code",
   "execution_count": 14,
   "metadata": {},
   "outputs": [
    {
     "data": {
      "text/plain": [
       "array([[0.67599518, 0.82607401, 0.21811206],\n",
       "       [0.2191673 , 0.62465226, 0.19849127],\n",
       "       [0.63193194, 0.48599046, 0.59350822],\n",
       "       [0.15179555, 0.59602644, 0.28818412]])"
      ]
     },
     "execution_count": 14,
     "metadata": {},
     "output_type": "execute_result"
    }
   ],
   "source": [
    "np.random.random((4,3))"
   ]
  },
  {
   "cell_type": "markdown",
   "metadata": {},
   "source": [
    "2. Crie um array com 5 colunas e 10 linhas inicializados com zeros"
   ]
  },
  {
   "cell_type": "code",
   "execution_count": 15,
   "metadata": {},
   "outputs": [
    {
     "data": {
      "text/plain": [
       "array([[0., 0., 0., 0., 0.],\n",
       "       [0., 0., 0., 0., 0.],\n",
       "       [0., 0., 0., 0., 0.],\n",
       "       [0., 0., 0., 0., 0.],\n",
       "       [0., 0., 0., 0., 0.],\n",
       "       [0., 0., 0., 0., 0.],\n",
       "       [0., 0., 0., 0., 0.],\n",
       "       [0., 0., 0., 0., 0.],\n",
       "       [0., 0., 0., 0., 0.],\n",
       "       [0., 0., 0., 0., 0.]])"
      ]
     },
     "execution_count": 15,
     "metadata": {},
     "output_type": "execute_result"
    }
   ],
   "source": [
    "np.zeros((10,5))"
   ]
  },
  {
   "cell_type": "markdown",
   "metadata": {},
   "source": [
    "3. Crie um array com valores inteiros 3 linhas e 5 colunas com valores aleatórios"
   ]
  },
  {
   "cell_type": "code",
   "execution_count": 18,
   "metadata": {},
   "outputs": [
    {
     "data": {
      "text/plain": [
       "array([[30, 10, 27, 15, 29],\n",
       "       [15, 10, 29, 25, 10],\n",
       "       [10, 13, 11, 11, 23]])"
      ]
     },
     "execution_count": 18,
     "metadata": {},
     "output_type": "execute_result"
    }
   ],
   "source": [
    "np.random.randint(10,31, size=(3,5))"
   ]
  },
  {
   "cell_type": "code",
   "execution_count": 19,
   "metadata": {},
   "outputs": [],
   "source": [
    "#array 3D\n",
    "\n",
    "\n",
    "arr1_2d = np.array ([[1,2],[3,4]])\n",
    "arr2_2d = np.array ([[5,6],[7,8]])\n",
    "arr3_2d = np.array ([[9,2],[3,4]])\n",
    "\n",
    "arr_3d = np.array([arr1_2d, arr2_2d, arr3_2d ])"
   ]
  },
  {
   "cell_type": "code",
   "execution_count": 20,
   "metadata": {},
   "outputs": [
    {
     "data": {
      "text/plain": [
       "array([[[1, 2],\n",
       "        [3, 4]],\n",
       "\n",
       "       [[5, 6],\n",
       "        [7, 8]],\n",
       "\n",
       "       [[9, 2],\n",
       "        [3, 4]]])"
      ]
     },
     "execution_count": 20,
     "metadata": {},
     "output_type": "execute_result"
    }
   ],
   "source": [
    "arr_3d"
   ]
  },
  {
   "cell_type": "markdown",
   "metadata": {},
   "source": [
    "Dimensõees do array (atributos e métodos)\n",
    "\n",
    "Atributo: .shape\n",
    "\n",
    "Método: .flatten() - transforma uma matriz em um array de 1 dimensão, ele achata o array.\n",
    "        .reshape() - ele muda as dimensões da array\n"
   ]
  },
  {
   "cell_type": "code",
   "execution_count": 21,
   "metadata": {},
   "outputs": [
    {
     "data": {
      "text/plain": [
       "(3, 2, 2)"
      ]
     },
     "execution_count": 21,
     "metadata": {},
     "output_type": "execute_result"
    }
   ],
   "source": [
    "arr_3d.shape"
   ]
  },
  {
   "cell_type": "code",
   "execution_count": 24,
   "metadata": {},
   "outputs": [
    {
     "data": {
      "text/plain": [
       "array([[[1, 2],\n",
       "        [3, 4]],\n",
       "\n",
       "       [[5, 6],\n",
       "        [7, 8]],\n",
       "\n",
       "       [[9, 2],\n",
       "        [3, 4]]])"
      ]
     },
     "execution_count": 24,
     "metadata": {},
     "output_type": "execute_result"
    }
   ],
   "source": [
    "arr_3d"
   ]
  },
  {
   "cell_type": "code",
   "execution_count": 27,
   "metadata": {},
   "outputs": [],
   "source": [
    "arr = np.zeros((3,4,2))"
   ]
  },
  {
   "cell_type": "code",
   "execution_count": 28,
   "metadata": {},
   "outputs": [
    {
     "data": {
      "text/plain": [
       "(3, 4, 2)"
      ]
     },
     "execution_count": 28,
     "metadata": {},
     "output_type": "execute_result"
    }
   ],
   "source": [
    "arr.shape"
   ]
  },
  {
   "cell_type": "code",
   "execution_count": 29,
   "metadata": {},
   "outputs": [
    {
     "data": {
      "text/plain": [
       "array([0., 0., 0., 0., 0., 0., 0., 0., 0., 0., 0., 0., 0., 0., 0., 0., 0.,\n",
       "       0., 0., 0., 0., 0., 0., 0.])"
      ]
     },
     "execution_count": 29,
     "metadata": {},
     "output_type": "execute_result"
    }
   ],
   "source": [
    "arr.flatten()"
   ]
  },
  {
   "cell_type": "code",
   "execution_count": 30,
   "metadata": {},
   "outputs": [
    {
     "data": {
      "text/plain": [
       "array([[[1, 2],\n",
       "        [3, 4]],\n",
       "\n",
       "       [[5, 6],\n",
       "        [7, 8]],\n",
       "\n",
       "       [[9, 2],\n",
       "        [3, 4]]])"
      ]
     },
     "execution_count": 30,
     "metadata": {},
     "output_type": "execute_result"
    }
   ],
   "source": [
    "arr_3d"
   ]
  },
  {
   "cell_type": "code",
   "execution_count": 31,
   "metadata": {},
   "outputs": [
    {
     "data": {
      "text/plain": [
       "array([[1, 2, 3],\n",
       "       [4, 5, 6],\n",
       "       [7, 8, 9],\n",
       "       [2, 3, 4]])"
      ]
     },
     "execution_count": 31,
     "metadata": {},
     "output_type": "execute_result"
    }
   ],
   "source": [
    "arr_3d.reshape((4,3))"
   ]
  },
  {
   "cell_type": "markdown",
   "metadata": {},
   "source": [
    "1. Reduza o array (5,7) a apenas uma dimensão"
   ]
  },
  {
   "cell_type": "code",
   "execution_count": 32,
   "metadata": {},
   "outputs": [],
   "source": [
    "a57 = np.random.random((5,7))"
   ]
  },
  {
   "cell_type": "code",
   "execution_count": 34,
   "metadata": {},
   "outputs": [],
   "source": [
    "a1d =a57.flatten()"
   ]
  },
  {
   "cell_type": "code",
   "execution_count": 35,
   "metadata": {},
   "outputs": [
    {
     "data": {
      "text/plain": [
       "array([0.18330109, 0.06412554, 0.27377161, 0.87331566, 0.76099722,\n",
       "       0.65107405, 0.1243905 , 0.56974139, 0.08065725, 0.53532517,\n",
       "       0.92560491, 0.23433863, 0.23475932, 0.71710171, 0.44280383,\n",
       "       0.37999052, 0.12578477, 0.67023821, 0.65112429, 0.01318467,\n",
       "       0.29821257, 0.58644288, 0.1768097 , 0.62001217, 0.33007368,\n",
       "       0.60939376, 0.60744102, 0.65421444, 0.42348835, 0.52708818,\n",
       "       0.16873833, 0.53911567, 0.74358373, 0.47089058, 0.33151237])"
      ]
     },
     "execution_count": 35,
     "metadata": {},
     "output_type": "execute_result"
    }
   ],
   "source": [
    "a1d"
   ]
  },
  {
   "cell_type": "markdown",
   "metadata": {},
   "source": [
    "2. Considerando que você é uma organizadora de um jogo de bingo. Crie um array que irá representar a cartilha desses jogos de bingo. Os números da sua cartelas variam entre 1 e 30, e você terá 10 participantes. Cada cartela terá 12 números (4,3).\n",
    "Crie um array que represente esse jogo."
   ]
  },
  {
   "cell_type": "code",
   "execution_count": 37,
   "metadata": {},
   "outputs": [
    {
     "data": {
      "text/plain": [
       "array([[[ 5, 14,  8],\n",
       "        [18, 29, 17],\n",
       "        [16, 29, 28],\n",
       "        [22, 14,  8]],\n",
       "\n",
       "       [[11, 13, 26],\n",
       "        [26, 20,  7],\n",
       "        [ 6, 23, 20],\n",
       "        [23, 28, 29]],\n",
       "\n",
       "       [[18,  4, 24],\n",
       "        [10, 27, 15],\n",
       "        [ 9, 27, 23],\n",
       "        [26, 14, 19]],\n",
       "\n",
       "       [[22, 23,  7],\n",
       "        [22, 21, 22],\n",
       "        [25, 10, 18],\n",
       "        [12, 28,  5]],\n",
       "\n",
       "       [[25, 16, 10],\n",
       "        [21, 25, 11],\n",
       "        [11, 12, 16],\n",
       "        [19, 17, 21]],\n",
       "\n",
       "       [[ 4, 26,  7],\n",
       "        [ 7, 28, 23],\n",
       "        [21, 14, 13],\n",
       "        [28,  3, 20]],\n",
       "\n",
       "       [[17, 23, 23],\n",
       "        [28, 23, 21],\n",
       "        [13, 10, 22],\n",
       "        [29, 21, 30]],\n",
       "\n",
       "       [[21, 23, 29],\n",
       "        [18, 21, 17],\n",
       "        [28,  2, 28],\n",
       "        [ 2,  8, 26]],\n",
       "\n",
       "       [[ 1,  2,  8],\n",
       "        [30, 11, 23],\n",
       "        [10, 24, 27],\n",
       "        [15, 26, 11]],\n",
       "\n",
       "       [[11,  6, 16],\n",
       "        [10,  3, 12],\n",
       "        [ 4, 30, 23],\n",
       "        [ 8, 12,  5]]])"
      ]
     },
     "execution_count": 37,
     "metadata": {},
     "output_type": "execute_result"
    }
   ],
   "source": [
    "bingo = np.random.randint(1,31, size=(10,4,3))\n",
    "bingo"
   ]
  },
  {
   "cell_type": "markdown",
   "metadata": {},
   "source": [
    "3. Faça o reshape das suas cartelas para que haja 5 cartelas de 4 linhas e 6 colunas."
   ]
  },
  {
   "cell_type": "code",
   "execution_count": 38,
   "metadata": {},
   "outputs": [
    {
     "data": {
      "text/plain": [
       "array([[[ 5, 14,  8, 18, 29, 17],\n",
       "        [16, 29, 28, 22, 14,  8],\n",
       "        [11, 13, 26, 26, 20,  7],\n",
       "        [ 6, 23, 20, 23, 28, 29]],\n",
       "\n",
       "       [[18,  4, 24, 10, 27, 15],\n",
       "        [ 9, 27, 23, 26, 14, 19],\n",
       "        [22, 23,  7, 22, 21, 22],\n",
       "        [25, 10, 18, 12, 28,  5]],\n",
       "\n",
       "       [[25, 16, 10, 21, 25, 11],\n",
       "        [11, 12, 16, 19, 17, 21],\n",
       "        [ 4, 26,  7,  7, 28, 23],\n",
       "        [21, 14, 13, 28,  3, 20]],\n",
       "\n",
       "       [[17, 23, 23, 28, 23, 21],\n",
       "        [13, 10, 22, 29, 21, 30],\n",
       "        [21, 23, 29, 18, 21, 17],\n",
       "        [28,  2, 28,  2,  8, 26]],\n",
       "\n",
       "       [[ 1,  2,  8, 30, 11, 23],\n",
       "        [10, 24, 27, 15, 26, 11],\n",
       "        [11,  6, 16, 10,  3, 12],\n",
       "        [ 4, 30, 23,  8, 12,  5]]])"
      ]
     },
     "execution_count": 38,
     "metadata": {},
     "output_type": "execute_result"
    }
   ],
   "source": [
    "bingo.reshape((5,4,6))"
   ]
  }
 ],
 "metadata": {
  "kernelspec": {
   "display_name": "Python 3",
   "language": "python",
   "name": "python3"
  },
  "language_info": {
   "codemirror_mode": {
    "name": "ipython",
    "version": 3
   },
   "file_extension": ".py",
   "mimetype": "text/x-python",
   "name": "python",
   "nbconvert_exporter": "python",
   "pygments_lexer": "ipython3",
   "version": "3.10.11"
  }
 },
 "nbformat": 4,
 "nbformat_minor": 2
}
